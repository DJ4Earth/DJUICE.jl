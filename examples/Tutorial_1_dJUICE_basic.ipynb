{
 "cells": [
  {
   "cell_type": "markdown",
   "id": "9943fe5d",
   "metadata": {},
   "source": [
    "# Initialize the model\n",
    "We follow the same model structure as in ISSM: [https://issm.jpl.nasa.gov](https://issm.jpl.nasa.gov)\n",
    "\n",
    "All the data belonging to a model (geometry, node coordinates, results, etc.) is held in the same struct `model`. To create a new model:"
   ]
  },
  {
   "cell_type": "code",
   "execution_count": 1,
   "id": "d10ed787",
   "metadata": {},
   "outputs": [
    {
     "data": {
      "text/plain": [
       "Model:\n"
      ]
     },
     "execution_count": 1,
     "metadata": {},
     "output_type": "execute_result"
    },
    {
     "name": "stdout",
     "output_type": "stream",
     "text": [
      "               mesh: DJUICE.Mesh2dTriangle      -- mesh properties\n",
      "           geometry: DJUICE.Geometry            -- surface elevation, bedrock topography, ice thickness,...\n",
      "               mask: DJUICE.Mask                -- defines grounded and floating regions\n",
      "          materials: DJUICE.Materials           -- material properties\n",
      "     initialization: DJUICE.Initialization      -- initial state\n",
      "          constants: DJUICE.Constants           -- physical constants\n",
      "           friction: DJUICE.BuddFriction        -- basal friction\n",
      "      basalforcings: DJUICE.Basalforcings       -- basal forcings\n",
      "                smb: DJUICE.SMBforcings         -- surface mass balance\n",
      "       timestepping: DJUICE.Timestepping        -- time stepping for transient simulations\n",
      "      stressbalance: DJUICE.Stressbalance       -- parameters stress balance simulations\n",
      "      masstransport: DJUICE.Masstransport       -- parameters mass transport simulations\n",
      "          transient: DJUICE.Transient           -- parameters for transient simulations\n",
      "          inversion: DJUICE.Inversion           -- parameters for inverse methods\n",
      "            calving: DJUICE.DefaultCalving      -- parameters for calving\n",
      "           levelset: DJUICE.Levelset            -- parameters for moving boundaries (level-set method)\n",
      "    frontalforcings: DJUICE.Frontalforcings     -- parameters for frontalforcings\n",
      "            results: Dict{Any, Any}             -- model results\n"
     ]
    }
   ],
   "source": [
    "using DJUICE\n",
    "\n",
    "md = model()"
   ]
  },
  {
   "cell_type": "markdown",
   "id": "f630286d",
   "metadata": {},
   "source": [
    "# Generate Mesh\n",
    "\n",
    "To generate a triangular mesh, you need:\n",
    "- a domain outline defined by `domainname` (which is the name of an `exp` file, see below)\n",
    "- define a characteristic element length `resolution`\n",
    "```julia\n",
    "md=triangle(md, domainname, resolution)\n",
    "```\n",
    "\n",
    "We start with a square domain of $[0, 10^6~\\text{m}]\\times[0,10^6~\\text{m}]$ with $5\\times10^3$~m mesh resolution \n",
    "\n",
    "**TODO**: \n",
    "3. use IJulia.load(domainname) to show the exp file"
   ]
  },
  {
   "cell_type": "code",
   "execution_count": 15,
   "id": "ce84abf9",
   "metadata": {},
   "outputs": [
    {
     "data": {
      "text/plain": [
       "FigureAxisPlot()"
      ]
     },
     "execution_count": 15,
     "metadata": {},
     "output_type": "execute_result"
    }
   ],
   "source": [
    "# Currently, triangle uses ISSM version, we need to fix the bug in triangle, and use the julia version\n",
    "md1 = triangle(md,issmdir()*\"/test/Exp/Square.exp\",50000.) \n",
    "\n",
    "# need to install GLMakie\n",
    "#using Makie\n",
    "fig = plotmodel(md, \"mesh\")\n",
    "#display(fig)"
   ]
  },
  {
   "cell_type": "code",
   "execution_count": 5,
   "id": "8cfe30df",
   "metadata": {},
   "outputs": [],
   "source": [
    "IJulia.load(issmdir()*\"/test/Exp/Square.exp\")"
   ]
  },
  {
   "cell_type": "code",
   "execution_count": null,
   "id": "56e55281-a08a-44ca-b03a-b0c8c50d5382",
   "metadata": {},
   "outputs": [],
   "source": [
    "## Name:domainoutline\n",
    "## Icon:0\n",
    "# Points Count  Value\n",
    "5 1.\n",
    "# X pos Y pos\n",
    "0 0\n",
    "1000000 0\n",
    "1000000 1000000\n",
    "0 1000000\n",
    "0 0\n"
   ]
  },
  {
   "cell_type": "markdown",
   "id": "d98e6177",
   "metadata": {},
   "source": [
    "# Set the geometry\n",
    "\n",
    "**TODO**\n",
    "2. add subplot"
   ]
  },
  {
   "cell_type": "code",
   "execution_count": 6,
   "id": "d286e4cf",
   "metadata": {},
   "outputs": [],
   "source": [
    "hmin=300.\n",
    "hmax=1000.\n",
    "ymin=minimum(md.mesh.y)\n",
    "ymax=maximum(md.mesh.y)\n",
    "xmin=minimum(md.mesh.x)\n",
    "xmax=maximum(md.mesh.x);"
   ]
  },
  {
   "cell_type": "markdown",
   "id": "87f08b82",
   "metadata": {},
   "source": [
    "We set the thickness of the ice shelf to be \n",
    "$$H(x,y)=h_{\\max} + \\frac{h_{\\min}-h_{\\max}}{10^6}y+\\frac{h_{\\min}-h_{\\max}}{10^7}x$$\n",
    "where $h_\\min=300$ and $h_\\max=1000$"
   ]
  },
  {
   "cell_type": "code",
   "execution_count": 7,
   "id": "3e162a0b",
   "metadata": {},
   "outputs": [
    {
     "data": {
      "text/plain": [
       "Figure()"
      ]
     },
     "execution_count": 7,
     "metadata": {},
     "output_type": "execute_result"
    }
   ],
   "source": [
    "md.geometry.thickness = hmax .+ (hmin-hmax)*(md.mesh.y .- ymin)./(ymax-ymin) .+ 0.1*(hmin-hmax)*(md.mesh.x .- xmin)./(xmax-xmin)\n",
    "plotmodel(md, md.geometry.thickness)"
   ]
  },
  {
   "cell_type": "markdown",
   "id": "f579c406",
   "metadata": {},
   "source": [
    "Because the ice shelf is floating, we can determine the base of the ice by flotation criteria\n",
    "$$base=-\\frac{\\rho_i}{\\rho_w}*H$$"
   ]
  },
  {
   "cell_type": "code",
   "execution_count": 8,
   "id": "7b166a25",
   "metadata": {},
   "outputs": [
    {
     "data": {
      "text/plain": [
       "Figure()"
      ]
     },
     "execution_count": 8,
     "metadata": {},
     "output_type": "execute_result"
    }
   ],
   "source": [
    "md.geometry.base      = -md.materials.rho_ice/md.materials.rho_water*md.geometry.thickness\n",
    "plotmodel(md, md.geometry.base)"
   ]
  },
  {
   "cell_type": "markdown",
   "id": "9982af00",
   "metadata": {},
   "source": [
    "The surface of the ice is then $s=base+H$"
   ]
  },
  {
   "cell_type": "code",
   "execution_count": 9,
   "id": "022750f7",
   "metadata": {},
   "outputs": [
    {
     "data": {
      "text/plain": [
       "Figure()"
      ]
     },
     "execution_count": 9,
     "metadata": {},
     "output_type": "execute_result"
    }
   ],
   "source": [
    "md.geometry.surface   = md.geometry.base+md.geometry.thickness\n",
    "plotmodel(md, md.geometry.surface)"
   ]
  },
  {
   "cell_type": "markdown",
   "id": "6e6927c1",
   "metadata": {},
   "source": [
    "To gurantee the ice shelf is completely floating, we set the sea bed elevation to be 10~m deeper than the base of the ice $b=base-10$"
   ]
  },
  {
   "cell_type": "code",
   "execution_count": 10,
   "id": "10ac97e9",
   "metadata": {},
   "outputs": [
    {
     "data": {
      "text/plain": [
       "Figure()"
      ]
     },
     "execution_count": 10,
     "metadata": {},
     "output_type": "execute_result"
    }
   ],
   "source": [
    "md.geometry.bed       = md.geometry.base .-10\n",
    "plotmodel(md, md.geometry.bed)"
   ]
  },
  {
   "cell_type": "markdown",
   "id": "e54eb806",
   "metadata": {},
   "source": [
    "# Set intitial conditions\n",
    "\n",
    "We set the whole domain to be ice covered.\n",
    "The initial velocity is set to ISSM solution, which will accelerate the solution procedure for this example. However, in reality, the solution is unknonw, so one can set the initial condition to 0, or some other values with priori knowledge. \n",
    "\n",
    "**TODO**\n",
    "1. move all data to dJUICE path\n",
    "2. after going through the whole tutorial, let's try to change the initial condition to be 0, and solve again"
   ]
  },
  {
   "cell_type": "code",
   "execution_count": null,
   "id": "cc463d4b",
   "metadata": {},
   "outputs": [],
   "source": [
    "# set ice mask \n",
    "md = setmask(md,\"all\",\"\")\n",
    "\n",
    "#Initial velocity\n",
    "x     = archread(issmdir()*\"/test/Data/SquareShelfConstrained.arch\",\"x\")\n",
    "y     = archread(issmdir()*\"/test/Data/SquareShelfConstrained.arch\",\"y\")\n",
    "vx    = archread(issmdir()*\"/test/Data/SquareShelfConstrained.arch\",\"vx\")\n",
    "vy    = archread(issmdir()*\"/test/Data/SquareShelfConstrained.arch\",\"vy\")\n",
    "index = Int.(archread(issmdir()*\"/test/Data/SquareShelfConstrained.arch\",\"index\"))\n",
    "md.initialization.vx=InterpFromMeshToMesh2d(index,x,y,vx,md.mesh.x,md.mesh.y,0.0)\n",
    "md.initialization.vy=InterpFromMeshToMesh2d(index,x,y,vy,md.mesh.x,md.mesh.y,0.0)\n",
    "vel = (md.initialization.vx.^2+ md.initialization.vy.^2).^0.5\n",
    "# plot the velocity magenitude\n",
    "plotmodel(md, vel)"
   ]
  },
  {
   "cell_type": "markdown",
   "id": "a4167cb0",
   "metadata": {},
   "source": [
    "# Set physical parameters\n",
    "\n",
    "The ice in large scale is a non-Neutownian, viscos fluid, governed by Glen's flow law\n",
    "$$\\sigma = \\mu\\tau$$\n",
    "where $\\mu$ is the visocity defined as \n",
    "$$\\mu=B\\tau_e^\\frac{1-n}{2n}$$\n",
    "where the pre-factor $B$ and exponent $n$ need to be defined in dJUICE\n",
    "\n",
    "**TODO**\n",
    "1. add SSA equation\n",
    "1. add Cuffey\n",
    "2. add why there is sliding"
   ]
  },
  {
   "cell_type": "code",
   "execution_count": null,
   "id": "e3322688",
   "metadata": {},
   "outputs": [],
   "source": [
    "md.materials.rheology_B=1.815730284801701e+08*ones(md.mesh.numberofvertices)\n",
    "md.materials.rheology_n=3*ones(md.mesh.numberofelements);"
   ]
  },
  {
   "cell_type": "markdown",
   "id": "c8d206b8",
   "metadata": {},
   "source": [
    "The sliding velocity depends on the basal shear stress by a friciton law, here we use Budd friction law\n",
    "$$\\tau_b=C^2N^\\frac{q}{p}|u_b|^{\\frac{1}{q}-1}u_b$$\n",
    "where $N$ is the effective pressure at the base of the ice, in this example, we use $p=1$ and $q=1$\n",
    "\n",
    "**TODO** \n",
    "1. add formula of N"
   ]
  },
  {
   "cell_type": "code",
   "execution_count": null,
   "id": "77ccfb25",
   "metadata": {},
   "outputs": [],
   "source": [
    "md.friction.coefficient=20*ones(md.mesh.numberofvertices)\n",
    "md.friction.p=ones(md.mesh.numberofvertices)\n",
    "md.friction.q=ones(md.mesh.numberofvertices);"
   ]
  },
  {
   "cell_type": "markdown",
   "id": "f906d58c",
   "metadata": {},
   "source": [
    "# Boundary conditions\n",
    "\n",
    "The Dirichlet type boundary conditions are set in the same way as in ISSM"
   ]
  },
  {
   "cell_type": "code",
   "execution_count": null,
   "id": "e3ff6534",
   "metadata": {},
   "outputs": [],
   "source": [
    "md.stressbalance.spcvx = NaN*ones(md.mesh.numberofvertices)\n",
    "md.stressbalance.spcvy = NaN*ones(md.mesh.numberofvertices)\n",
    "pos = findall(md.mesh.vertexonboundary)\n",
    "md.stressbalance.spcvx[pos] .= 0.0\n",
    "md.stressbalance.spcvy[pos] .= 0.0;"
   ]
  },
  {
   "cell_type": "markdown",
   "id": "1869cd26",
   "metadata": {},
   "source": [
    "# Numerical tolerance\n",
    "\n",
    "- `restol` is the mechanical equilibrium residual convergence criterion\n",
    "- `reltol` is the velocity relative convergence criterion\n",
    "- `abstol` is the velocity absolute convergence criterion\n",
    "\n",
    "If the tolerance is set to `NaN`, that means it is not applied."
   ]
  },
  {
   "cell_type": "code",
   "execution_count": null,
   "id": "ee2ab36f",
   "metadata": {},
   "outputs": [],
   "source": [
    "md.stressbalance.restol=0.05\n",
    "md.stressbalance.reltol=0.05\n",
    "md.stressbalance.abstol=NaN;"
   ]
  },
  {
   "cell_type": "markdown",
   "id": "a776ab3f",
   "metadata": {},
   "source": [
    "# Solve\n",
    "\n",
    "Now let's solve the nonlinar PDEs by iterative method"
   ]
  },
  {
   "cell_type": "code",
   "execution_count": null,
   "id": "1c2e9524",
   "metadata": {},
   "outputs": [],
   "source": [
    "md=solve(md,:Stressbalance)"
   ]
  },
  {
   "cell_type": "markdown",
   "id": "91302c08",
   "metadata": {},
   "source": [
    "# plot solutions\n",
    "\n",
    "**TODO**\n",
    "1. change Vel, Vx, Vy in results to m/yr by default"
   ]
  },
  {
   "cell_type": "code",
   "execution_count": null,
   "id": "5148706c",
   "metadata": {},
   "outputs": [],
   "source": [
    "plotmodel(md, md.results[\"StressbalanceSolution\"][\"Vel\"]*md.constants.yts)"
   ]
  },
  {
   "cell_type": "markdown",
   "id": "6754c266",
   "metadata": {},
   "source": [
    "# Rerun the example with 0 initial guess"
   ]
  },
  {
   "cell_type": "code",
   "execution_count": null,
   "id": "7076e090",
   "metadata": {},
   "outputs": [],
   "source": []
  }
 ],
 "metadata": {
  "kernelspec": {
   "display_name": "Julia 1.10.4",
   "language": "julia",
   "name": "julia-1.10"
  },
  "language_info": {
   "file_extension": ".jl",
   "mimetype": "application/julia",
   "name": "julia",
   "version": "1.10.4"
  }
 },
 "nbformat": 4,
 "nbformat_minor": 5
}
