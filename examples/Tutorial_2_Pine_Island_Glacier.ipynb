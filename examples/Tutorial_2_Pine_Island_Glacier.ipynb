{
 "cells": [
  {
   "cell_type": "markdown",
   "id": "2e87e1a2",
   "metadata": {},
   "source": [
    "# Pine Island Glacier\n",
    "\n",
    "Let's try to solve a real glacier on Antarctica, PIG."
   ]
  },
  {
   "cell_type": "code",
   "execution_count": null,
   "id": "ee4276ae",
   "metadata": {},
   "outputs": [],
   "source": [
    "using dJUICE\n",
    "\n",
    "md = model()\n",
    "md = triangle2(md,issmdir()*\"/test/Exp/Pig.exp\",10000.)\n",
    "md = setmask( md,issmdir()*\"/test/Exp/PigShelves.exp\",issmdir()*\"/test/Exp/PigIslands.exp\")\n",
    "\n",
    "#Initial velocity and geometry\n",
    "x         = archread(issmdir()*\"/test/Data/Pig.arch\",\"x\")\n",
    "y         = archread(issmdir()*\"/test/Data/Pig.arch\",\"y\")\n",
    "vx_obs    = archread(issmdir()*\"/test/Data/Pig.arch\",\"vx_obs\")\n",
    "vy_obs    = archread(issmdir()*\"/test/Data/Pig.arch\",\"vy_obs\")\n",
    "index     = Int.(archread(issmdir()*\"/test/Data/Pig.arch\",\"index\"))\n",
    "surface   = archread(issmdir()*\"/test/Data/Pig.arch\",\"surface\")\n",
    "thickness = archread(issmdir()*\"/test/Data/Pig.arch\",\"thickness\")\n",
    "bed       = archread(issmdir()*\"/test/Data/Pig.arch\",\"bed\")\n",
    "md.initialization.vx=InterpFromMeshToMesh2d(index, x, y, vx_obs, md.mesh.x, md.mesh.y, 0.0)\n",
    "md.initialization.vy=InterpFromMeshToMesh2d(index, x, y, vy_obs, md.mesh.x, md.mesh.y, 0.0)\n",
    "md.geometry.surface = InterpFromMeshToMesh2d(index, x, y, surface, md.mesh.x, md.mesh.y, 0.0)\n",
    "md.geometry.thickness = InterpFromMeshToMesh2d(index, x, y, thickness, md.mesh.x, md.mesh.y, 0.0)\n",
    "md.geometry.base=md.geometry.surface .- md.geometry.thickness\n",
    "md.geometry.bed =md.geometry.base\n",
    "pos = findall(md.mask.ocean_levelset.<0)\n",
    "md.geometry.bed[pos] = InterpFromMeshToMesh2d(index, x, y, bed, md.mesh.x[pos], md.mesh.y[pos])\n",
    "\n",
    "md.materials.rheology_B=1.815730284801701e+08*ones(md.mesh.numberofvertices)\n",
    "md.materials.rheology_n=3*ones(md.mesh.numberofelements)\n",
    "md.friction.coefficient=50*ones(md.mesh.numberofvertices)\n",
    "md.friction.p=ones(md.mesh.numberofvertices)\n",
    "md.friction.q=ones(md.mesh.numberofvertices)\n",
    "\n",
    "md.stressbalance.restol=0.05\n",
    "md.stressbalance.reltol=1.0\n",
    "md.stressbalance.abstol=NaN\n",
    "\n",
    "#Boundary conditions\n",
    "pos = findall(vec(sum(Int64.(md.mask.ocean_levelset[md.mesh.elements].<0), dims=2)) .> 0.0)\n",
    "vertexonfloatingice=zeros(md.mesh.numberofvertices)\n",
    "vertexonfloatingice[md.mesh.elements[pos,:]] .= 1\n",
    "nodefront=(md.mesh.vertexonboundary .& (vertexonfloatingice.>0))\n",
    "md.mask.ice_levelset[findall(nodefront)] .= 0\n",
    "\n",
    "md.stressbalance.spcvx = NaN*ones(md.mesh.numberofvertices)\n",
    "md.stressbalance.spcvy = NaN*ones(md.mesh.numberofvertices)\n",
    "segmentsfront=md.mask.ice_levelset[md.mesh.segments[:,1:2]]==0\n",
    "segments = findall(vec(sum(Int64.(md.mask.ice_levelset[md.mesh.segments[:,1:2]].==0), dims=2)) .!=2)\n",
    "pos=md.mesh.segments[segments,1:2]\n",
    "md.stressbalance.spcvx[pos] .= 0.0\n",
    "md.stressbalance.spcvy[pos] .= 0.0\n",
    "\n",
    "md=solve(md, :Stressbalance)\n"
   ]
  },
  {
   "cell_type": "code",
   "execution_count": null,
   "id": "51fbe0f0",
   "metadata": {},
   "outputs": [],
   "source": [
    "plotmodel(md, md.results[\"StressbalanceSolution\"][\"Vel\"])"
   ]
  },
  {
   "cell_type": "code",
   "execution_count": null,
   "id": "b624b05e",
   "metadata": {},
   "outputs": [],
   "source": []
  }
 ],
 "metadata": {
  "kernelspec": {
   "display_name": "Julia 1.10.0",
   "language": "julia",
   "name": "julia-1.10"
  },
  "language_info": {
   "file_extension": ".jl",
   "mimetype": "application/julia",
   "name": "julia",
   "version": "1.10.0"
  }
 },
 "nbformat": 4,
 "nbformat_minor": 5
}
