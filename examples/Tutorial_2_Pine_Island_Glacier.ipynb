{
 "cells": [
  {
   "cell_type": "markdown",
   "id": "2e87e1a2",
   "metadata": {},
   "source": [
    "# Pine Island Glacier\n",
    "\n",
    "Let's try to solve a real glacier on Antarctica, PIG."
   ]
  },
  {
   "cell_type": "code",
   "execution_count": 3,
   "id": "ee4276ae",
   "metadata": {},
   "outputs": [
    {
     "name": "stdout",
     "output_type": "stream",
     "text": [
      "   creating datasets for analysis DJUICE.StressbalanceAnalysis\n",
      "      detecting active vertices\n",
      "   computing stress balance\n",
      "   Renumbering degrees of freedom\n",
      "   Allocating matrices\n",
      "   Assembling matrices\n",
      "   Solving matrix system\n",
      "   checking convergence\n",
      "   mechanical equilibrium convergence criterion 191.5610576743576 > 5.0 %\n",
      "   Convergence criterion: norm(du)/norm(u)      303.5134899822427 > 100.0 %\n",
      "   Allocating matrices\n",
      "   Assembling matrices\n",
      "   Solving matrix system\n",
      "   checking convergence\n",
      "   mechanical equilibrium convergence criterion 48.12797875557519 > 5.0 %\n",
      "   Convergence criterion: norm(du)/norm(u)      247.49971643203375 > 100.0 %\n",
      "   Allocating matrices\n",
      "   Assembling matrices\n",
      "   Solving matrix system\n",
      "   checking convergence\n",
      "   mechanical equilibrium convergence criterion 36.17362382674937 > 5.0 %\n",
      "   Convergence criterion: norm(du)/norm(u)      141.24051464314155 > 100.0 %\n",
      "   Allocating matrices\n",
      "   Assembling matrices\n",
      "   Solving matrix system\n",
      "   checking convergence\n",
      "   mechanical equilibrium convergence criterion 28.395282737673 > 5.0 %\n",
      "   Convergence criterion: norm(du)/norm(u)      85.07609025426872 < 100.0 %\n",
      "   Allocating matrices\n",
      "   Assembling matrices\n",
      "   Solving matrix system\n",
      "   checking convergence\n",
      "   mechanical equilibrium convergence criterion 21.504999366375394 > 5.0 %\n",
      "   Convergence criterion: norm(du)/norm(u)      52.92180916368867 < 100.0 %\n",
      "   Allocating matrices\n",
      "   Assembling matrices\n",
      "   Solving matrix system\n",
      "   checking convergence\n",
      "   mechanical equilibrium convergence criterion 15.601088791987399 > 5.0 %\n",
      "   Convergence criterion: norm(du)/norm(u)      33.51078355574398 < 100.0 %\n",
      "   Allocating matrices\n",
      "   Assembling matrices\n",
      "   Solving matrix system\n",
      "   checking convergence\n",
      "   mechanical equilibrium convergence criterion 11.032435861614825 > 5.0 %\n",
      "   Convergence criterion: norm(du)/norm(u)      21.50647660123979 < 100.0 %\n",
      "   Allocating matrices\n",
      "   Assembling matrices\n",
      "   Solving matrix system\n",
      "   checking convergence\n",
      "   mechanical equilibrium convergence criterion 7.65319036781311 > 5.0 %\n",
      "   Convergence criterion: norm(du)/norm(u)      13.950222646584251 < 100.0 %\n",
      "   Allocating matrices\n",
      "   Assembling matrices\n",
      "   Solving matrix system\n",
      "   checking convergence\n",
      "   mechanical equilibrium convergence criterion 5.237747421365476 > 5.0 %\n",
      "   Convergence criterion: norm(du)/norm(u)      9.121005965677305 < 100.0 %\n",
      "   Allocating matrices\n",
      "   Assembling matrices\n",
      "   Solving matrix system\n",
      "   checking convergence\n",
      "   mechanical equilibrium convergence criterion 3.552623874323025 < 5.0 %\n",
      "   Convergence criterion: norm(du)/norm(u)      5.997472033034996 < 100.0 %\n",
      "\n",
      "   total number of iterations: 10\n"
     ]
    },
    {
     "data": {
      "text/plain": [
       "Model:\n"
      ]
     },
     "execution_count": 3,
     "metadata": {},
     "output_type": "execute_result"
    },
    {
     "name": "stdout",
     "output_type": "stream",
     "text": [
      "               mesh: DJUICE.Mesh2dTriangle      -- mesh properties\n",
      "           geometry: DJUICE.Geometry            -- surface elevation, bedrock topography, ice thickness,...\n",
      "               mask: DJUICE.Mask                -- defines grounded and floating regions\n",
      "          materials: DJUICE.Materials           -- material properties\n",
      "     initialization: DJUICE.Initialization      -- initial state\n",
      "          constants: DJUICE.Constants           -- physical constants\n",
      "           friction: DJUICE.BuddFriction        -- basal friction\n",
      "      basalforcings: DJUICE.Basalforcings       -- basal forcings\n",
      "                smb: DJUICE.SMBforcings         -- surface mass balance\n",
      "       timestepping: DJUICE.Timestepping        -- time stepping for transient simulations\n",
      "      stressbalance: DJUICE.Stressbalance       -- parameters stress balance simulations\n",
      "      masstransport: DJUICE.Masstransport       -- parameters mass transport simulations\n",
      "          transient: DJUICE.Transient           -- parameters for transient simulations\n",
      "          inversion: DJUICE.Inversion           -- parameters for inverse methods\n",
      "            calving: DJUICE.DefaultCalving      -- parameters for calving\n",
      "           levelset: DJUICE.Levelset            -- parameters for moving boundaries (level-set method)\n",
      "    frontalforcings: DJUICE.Frontalforcings     -- parameters for frontalforcings\n",
      "            results: Dict{Any, Any}             -- model results\n"
     ]
    }
   ],
   "source": [
    "using DJUICE\n",
    "\n",
    "md = model()\n",
    "md = triangle(md,issmdir()*\"/test/Exp/Pig.exp\",10000.)\n",
    "md = setmask( md,issmdir()*\"/test/Exp/PigShelves.exp\",issmdir()*\"/test/Exp/PigIslands.exp\")\n",
    "\n",
    "#Initial velocity and geometry\n",
    "x         = archread(issmdir()*\"/test/Data/Pig.arch\",\"x\")\n",
    "y         = archread(issmdir()*\"/test/Data/Pig.arch\",\"y\")\n",
    "vx_obs    = archread(issmdir()*\"/test/Data/Pig.arch\",\"vx_obs\")\n",
    "vy_obs    = archread(issmdir()*\"/test/Data/Pig.arch\",\"vy_obs\")\n",
    "index     = Int.(archread(issmdir()*\"/test/Data/Pig.arch\",\"index\"))\n",
    "surface   = archread(issmdir()*\"/test/Data/Pig.arch\",\"surface\")\n",
    "thickness = archread(issmdir()*\"/test/Data/Pig.arch\",\"thickness\")\n",
    "bed       = archread(issmdir()*\"/test/Data/Pig.arch\",\"bed\")\n",
    "md.initialization.vx=InterpFromMeshToMesh2d(index, x, y, vx_obs, md.mesh.x, md.mesh.y, 0.0)\n",
    "md.initialization.vy=InterpFromMeshToMesh2d(index, x, y, vy_obs, md.mesh.x, md.mesh.y, 0.0)\n",
    "md.geometry.surface = InterpFromMeshToMesh2d(index, x, y, surface, md.mesh.x, md.mesh.y, 0.0)\n",
    "md.geometry.thickness = InterpFromMeshToMesh2d(index, x, y, thickness, md.mesh.x, md.mesh.y, 0.0)\n",
    "md.geometry.base=md.geometry.surface .- md.geometry.thickness\n",
    "md.geometry.bed =md.geometry.base\n",
    "pos = findall(md.mask.ocean_levelset.<0)\n",
    "md.geometry.bed[pos] = InterpFromMeshToMesh2d(index, x, y, bed, md.mesh.x[pos], md.mesh.y[pos])\n",
    "\n",
    "md.materials.rheology_B=1.815730284801701e+08*ones(md.mesh.numberofvertices)\n",
    "md.materials.rheology_n=3*ones(md.mesh.numberofelements)\n",
    "md.friction.coefficient=50*ones(md.mesh.numberofvertices)\n",
    "md.friction.p=ones(md.mesh.numberofvertices)\n",
    "md.friction.q=ones(md.mesh.numberofvertices)\n",
    "\n",
    "md.stressbalance.restol=0.05\n",
    "md.stressbalance.reltol=1.0\n",
    "md.stressbalance.abstol=NaN\n",
    "\n",
    "#Boundary conditions\n",
    "pos = findall(vec(sum(Int64.(md.mask.ocean_levelset[md.mesh.elements].<0), dims=2)) .> 0.0)\n",
    "vertexonfloatingice=zeros(md.mesh.numberofvertices)\n",
    "vertexonfloatingice[md.mesh.elements[pos,:]] .= 1\n",
    "nodefront=(md.mesh.vertexonboundary .& (vertexonfloatingice.>0))\n",
    "md.mask.ice_levelset[findall(nodefront)] .= 0\n",
    "\n",
    "md.stressbalance.spcvx = NaN*ones(md.mesh.numberofvertices)\n",
    "md.stressbalance.spcvy = NaN*ones(md.mesh.numberofvertices)\n",
    "segmentsfront=md.mask.ice_levelset[md.mesh.segments[:,1:2]]==0\n",
    "segments = findall(vec(sum(Int64.(md.mask.ice_levelset[md.mesh.segments[:,1:2]].==0), dims=2)) .!=2)\n",
    "pos=md.mesh.segments[segments,1:2]\n",
    "md.stressbalance.spcvx[pos] .= 0.0\n",
    "md.stressbalance.spcvy[pos] .= 0.0\n",
    "\n",
    "md=solve(md, :Stressbalance)\n"
   ]
  },
  {
   "cell_type": "code",
   "execution_count": 4,
   "id": "51fbe0f0",
   "metadata": {},
   "outputs": [
    {
     "data": {
      "text/plain": [
       "Figure()"
      ]
     },
     "execution_count": 4,
     "metadata": {},
     "output_type": "execute_result"
    }
   ],
   "source": [
    "plotmodel(md, md.results[\"StressbalanceSolution\"][\"Vel\"])"
   ]
  },
  {
   "cell_type": "code",
   "execution_count": null,
   "id": "b624b05e",
   "metadata": {},
   "outputs": [],
   "source": []
  }
 ],
 "metadata": {
  "kernelspec": {
   "display_name": "Julia 1.10.4",
   "language": "julia",
   "name": "julia-1.10"
  },
  "language_info": {
   "file_extension": ".jl",
   "mimetype": "application/julia",
   "name": "julia",
   "version": "1.10.4"
  }
 },
 "nbformat": 4,
 "nbformat_minor": 5
}
