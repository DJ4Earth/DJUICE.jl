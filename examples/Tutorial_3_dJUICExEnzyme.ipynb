{
 "cells": [
  {
   "cell_type": "code",
   "execution_count": null,
   "id": "71c22593",
   "metadata": {
    "scrolled": false
   },
   "outputs": [
    {
     "name": "stderr",
     "output_type": "stream",
     "text": [
      "\u001b[32m\u001b[1mPrecompiling\u001b[22m\u001b[39m dJUICE\n",
      "\u001b[32m  ✓ \u001b[39mdJUICE\n",
      "  1 dependency successfully precompiled in 34 seconds. 377 already precompiled.\n",
      "\u001b[33m\u001b[1m┌ \u001b[22m\u001b[39m\u001b[33m\u001b[1mWarning: \u001b[22m\u001b[39mMATLAB qmustatistics values are currently not supported\n",
      "\u001b[33m\u001b[1m└ \u001b[22m\u001b[39m\u001b[90m@ MAT.MAT_HDF5 ~/.julia/packages/MAT/mUpW6/src/MAT_HDF5.jl:169\u001b[39m\n",
      "\u001b[33m\u001b[1m┌ \u001b[22m\u001b[39m\u001b[33m\u001b[1mWarning: \u001b[22m\u001b[39mMATLAB lovenumbers values are currently not supported\n",
      "\u001b[33m\u001b[1m└ \u001b[22m\u001b[39m\u001b[90m@ MAT.MAT_HDF5 ~/.julia/packages/MAT/mUpW6/src/MAT_HDF5.jl:169\u001b[39m\n",
      "\u001b[33m\u001b[1m┌ \u001b[22m\u001b[39m\u001b[33m\u001b[1mWarning: \u001b[22m\u001b[39mMATLAB rotational values are currently not supported\n",
      "\u001b[33m\u001b[1m└ \u001b[22m\u001b[39m\u001b[90m@ MAT.MAT_HDF5 ~/.julia/packages/MAT/mUpW6/src/MAT_HDF5.jl:169\u001b[39m\n",
      "\u001b[33m\u001b[1m┌ \u001b[22m\u001b[39m\u001b[33m\u001b[1mWarning: \u001b[22m\u001b[39mMATLAB solidearthsettings values are currently not supported\n",
      "\u001b[33m\u001b[1m└ \u001b[22m\u001b[39m\u001b[90m@ MAT.MAT_HDF5 ~/.julia/packages/MAT/mUpW6/src/MAT_HDF5.jl:169\u001b[39m\n"
     ]
    },
    {
     "name": "stdout",
     "output_type": "stream",
     "text": [
      "could not recover md.autodiff\n",
      "could not recover md.stochasticforcing\n",
      "could not recover md.calving\n",
      "could not recover md.radaroverlay\n",
      "could not recover md.love\n",
      "could not recover md.flowequation\n",
      "could not recover md.damage\n",
      "could not recover md.amr\n",
      "could not recover md.mesh.lat\n",
      "could not recover md.mesh.extractedvertices\n",
      "could not recover md.mesh.scale_factor\n",
      "could not recover md.mesh.elementconnectivity\n",
      "could not recover md.mesh.long\n",
      "could not recover md.mesh.vertexconnectivity\n",
      "could not recover md.mesh.numberofedges\n",
      "could not recover md.mesh.epsg\n",
      "could not recover md.mesh.edges\n",
      "could not recover md."
     ]
    }
   ],
   "source": [
    "using dJUICE\n",
    "using MAT\n",
    "\n",
    "#file = matopen(joinpath(@__DIR__, \"..\", \"data\",\"temp12k.mat\")) #BIG model\n",
    "file = matopen(joinpath(@__DIR__, \"..\", \"data\",\"temp.mat\")) #SMALL model (35 elements)\n",
    "mat  = read(file, \"md\")\n",
    "close(file)\n",
    "md = model(mat)\n",
    "\n",
    "#make model run faster \n",
    "md.stressbalance.maxiter = 20\n",
    "\n",
    "#Now call AD!\n",
    "md.inversion.iscontrol = 1\n",
    "md.inversion.independent = md.friction.coefficient\n",
    "md.inversion.independent_string = \"FrictionCoefficient\"\n",
    "\n",
    "md = solve(md, :sb)\n",
    "\n",
    "# # compute gradient by finite differences at each node\n",
    "# addJ = md.results[\"StressbalanceSolution\"][\"Gradient\"]\n",
    "\n",
    "# α = md.inversion.independent\n",
    "# delta = 1e-7\n",
    "# femmodel=dJUICE.ModelProcessor(md, :StressbalanceSolution)\n",
    "# J1 = dJUICE.costfunction(femmodel, α)\n",
    "# for i in 1:md.mesh.numberofvertices\n",
    "#     dα = zero(md.friction.coefficient)\n",
    "#     dα[i] = delta\n",
    "#     femmodel=dJUICE.ModelProcessor(md, :StressbalanceSolution)\n",
    "#     J2 = dJUICE.costfunction(femmodel, α+dα)\n",
    "#     dJ = (J2-J1)/delta\n",
    "\n",
    "#     abs(dJ - addJ[i])< 1e-5\n",
    "# end\n",
    "\n"
   ]
  },
  {
   "cell_type": "code",
   "execution_count": null,
   "id": "489074d2",
   "metadata": {},
   "outputs": [],
   "source": []
  }
 ],
 "metadata": {
  "kernelspec": {
   "display_name": "Julia 1.10.0",
   "language": "julia",
   "name": "julia-1.10"
  },
  "language_info": {
   "file_extension": ".jl",
   "mimetype": "application/julia",
   "name": "julia",
   "version": "1.10.0"
  }
 },
 "nbformat": 4,
 "nbformat_minor": 5
}
